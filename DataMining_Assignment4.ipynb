{
  "nbformat": 4,
  "nbformat_minor": 0,
  "metadata": {
    "colab": {
      "name": "1821069-DataMining-Assignment4.ipynb",
      "provenance": [],
      "collapsed_sections": [],
      "mount_file_id": "12edohquFvJi9do0258L3IESzKdvgdjL9",
      "authorship_tag": "ABX9TyMLULp5u8HeJ2BJ2qopfekK",
      "include_colab_link": true
    },
    "kernelspec": {
      "name": "python3",
      "display_name": "Python 3"
    },
    "language_info": {
      "name": "python"
    }
  },
  "cells": [
    {
      "cell_type": "markdown",
      "metadata": {
        "id": "view-in-github",
        "colab_type": "text"
      },
      "source": [
        "<a href=\"https://colab.research.google.com/github/tashfeenMustafa/KMeans-Clustering-Image-Audio-Text/blob/main/DataMining_Assignment4.ipynb\" target=\"_parent\"><img src=\"https://colab.research.google.com/assets/colab-badge.svg\" alt=\"Open In Colab\"/></a>"
      ]
    },
    {
      "cell_type": "markdown",
      "metadata": {
        "id": "Ucsu-4HJbfcX"
      },
      "source": [
        "# MNIST Image Data KMeans Clustering"
      ]
    },
    {
      "cell_type": "markdown",
      "metadata": {
        "id": "zH8aq-1iO6SC"
      },
      "source": [
        "##Running KMeans Algorithm on MNIST database of Handwritten digits.\n",
        "\n",
        "Url: http://yann.lecun.com/exdb/mnist/"
      ]
    },
    {
      "cell_type": "code",
      "source": [
        "from google.colab import drive\n",
        "drive.mount('/content/drive')"
      ],
      "metadata": {
        "colab": {
          "base_uri": "https://localhost:8080/"
        },
        "id": "JO-_Awy1G6wg",
        "outputId": "1c8bd23f-fde5-40ad-d951-a88e3779e98a"
      },
      "execution_count": null,
      "outputs": [
        {
          "output_type": "stream",
          "name": "stdout",
          "text": [
            "Mounted at /content/drive\n"
          ]
        }
      ]
    },
    {
      "cell_type": "code",
      "metadata": {
        "id": "zW1M-0HSeZV-",
        "colab": {
          "base_uri": "https://localhost:8080/"
        },
        "outputId": "ae482efd-1705-4474-d299-f4859246414a"
      },
      "source": [
        "import os\n",
        "from mlxtend.data import loadlocal_mnist\n",
        "from sklearn.cluster import KMeans\n",
        "import numpy as np\n",
        "import time\n",
        "\n",
        "path = '/content/drive/MyDrive/Final_Project/mnist_dataset/'\n",
        "\n",
        "os.chdir(path)\n",
        "\n",
        "# loading train data sets of images. labels is not used\n",
        "images, labels = loadlocal_mnist(\n",
        "    images_path=\"train-images.idx3-ubyte\",\n",
        "    labels_path=\"train-labels.idx1-ubyte\"\n",
        ")\n",
        "\n",
        "# images is a 784 by 60000 data matrix\n",
        "print('Dimensions: %s x %s' % (images.shape[0], images.shape[1]))\n",
        "\n",
        "# labels is a 1 by 60000 data matrix\n",
        "print('Dimensions: {}'.format(labels.shape))\n",
        "\n",
        "# K Clusters\n",
        "K = 10\n",
        "\n",
        "print('MNIST Data Kmeans Started: ')\n",
        "start_time = time.time()\n",
        "\n",
        "# Running KMeans on images 10 times and making 10 clusters\n",
        "# Initialization of centroids are done randomly\n",
        "kmeans = KMeans(n_clusters=K, init='random', n_init=K).fit(images)\n",
        "\n",
        "print('MNIST Data Kmeans  Ended: ')\n",
        "print(\"--- %s seconds ---\" % (time.time() - start_time))\n",
        "\n",
        "# the cluster centers or centroids\n",
        "clusters = kmeans.cluster_centers_\n",
        "\n",
        "# find which points in the sample belong to which cluster\n",
        "cluster_affiliations = kmeans.predict(images)\n",
        "\n",
        "print('Total Number of Clusters: ', len(clusters))\n",
        "print('Clusters: ', clusters)\n",
        "\n",
        "print('Total Number of points in all clusters: ', len(cluster_affiliations))\n",
        "print('Cluster Affiliations: ', cluster_affiliations)"
      ],
      "execution_count": null,
      "outputs": [
        {
          "output_type": "stream",
          "name": "stdout",
          "text": [
            "Dimensions: 60000 x 784\n",
            "Dimensions: (60000,)\n",
            "MNIST Data Kmeans Started: \n",
            "MNIST Data Kmeans  Ended: \n",
            "--- 128.65020990371704 seconds ---\n",
            "Total Number of Clusters:  10\n",
            "Clusters:  [[0. 0. 0. ... 0. 0. 0.]\n",
            " [0. 0. 0. ... 0. 0. 0.]\n",
            " [0. 0. 0. ... 0. 0. 0.]\n",
            " ...\n",
            " [0. 0. 0. ... 0. 0. 0.]\n",
            " [0. 0. 0. ... 0. 0. 0.]\n",
            " [0. 0. 0. ... 0. 0. 0.]]\n",
            "Total Number of points in all clusters:  60000\n",
            "Cluster Affiliations:  [5 1 7 ... 5 0 3]\n"
          ]
        }
      ]
    },
    {
      "cell_type": "code",
      "source": [
        "from matplotlib import pyplot as plt"
      ],
      "metadata": {
        "id": "8JAggcGzu6tF"
      },
      "execution_count": null,
      "outputs": []
    },
    {
      "cell_type": "code",
      "source": [
        "im = clusters[0].reshape((28, 28))\n",
        "\n",
        "plt.imshow(im)"
      ],
      "metadata": {
        "colab": {
          "base_uri": "https://localhost:8080/",
          "height": 282
        },
        "id": "va0QgGdSusK3",
        "outputId": "d995225c-b167-4ff2-81e8-a8053b314139"
      },
      "execution_count": null,
      "outputs": [
        {
          "output_type": "execute_result",
          "data": {
            "text/plain": [
              "<matplotlib.image.AxesImage at 0x7f50cff8aa10>"
            ]
          },
          "metadata": {},
          "execution_count": 4
        },
        {
          "output_type": "display_data",
          "data": {
            "image/png": "[encoded data removed]",
            "text/plain": [
              "<Figure size 432x288 with 1 Axes>"
            ]
          },
          "metadata": {
            "needs_background": "light"
          }
        }
      ]
    },
    {
      "cell_type": "code",
      "source": [
        "im = clusters[1].reshape((28, 28))\n",
        "\n",
        "plt.imshow(im)"
      ],
      "metadata": {
        "colab": {
          "base_uri": "https://localhost:8080/",
          "height": 282
        },
        "id": "V7xTXSW8V3Ii",
        "outputId": "d2c39d3f-0264-4e7a-d259-30c20ed66c93"
      },
      "execution_count": null,
      "outputs": [
        {
          "output_type": "execute_result",
          "data": {
            "text/plain": [
              "<matplotlib.image.AxesImage at 0x7f50c29d6090>"
            ]
          },
          "metadata": {},
          "execution_count": 5
        },
        {
          "output_type": "display_data",
          "data": {
            "image/png": "[encoded data removed]",
            "text/plain": [
              "<Figure size 432x288 with 1 Axes>"
            ]
          },
          "metadata": {
            "needs_background": "light"
          }
        }
      ]
    },
    {
      "cell_type": "code",
      "source": [
        "im = clusters[2].reshape((28, 28))\n",
        "\n",
        "plt.imshow(im)"
      ],
      "metadata": {
        "colab": {
          "base_uri": "https://localhost:8080/",
          "height": 282
        },
        "id": "FNdrG8TNV4RO",
        "outputId": "6172303f-216c-410d-b2b2-ad2fffd10d3c"
      },
      "execution_count": null,
      "outputs": [
        {
          "output_type": "execute_result",
          "data": {
            "text/plain": [
              "<matplotlib.image.AxesImage at 0x7f50c29c1c10>"
            ]
          },
          "metadata": {},
          "execution_count": 6
        },
        {
          "output_type": "display_data",
          "data": {
            "image/png": "[encoded data removed]",
            "text/plain": [
              "<Figure size 432x288 with 1 Axes>"
            ]
          },
          "metadata": {
            "needs_background": "light"
          }
        }
      ]
    },
    {
      "cell_type": "code",
      "source": [
        "im = clusters[3].reshape((28, 28))\n",
        "\n",
        "plt.imshow(im)"
      ],
      "metadata": {
        "colab": {
          "base_uri": "https://localhost:8080/",
          "height": 282
        },
        "id": "p6a1VWn0V5Qh",
        "outputId": "c8ccac3a-5787-48a4-dde0-fcd2bc00ce38"
      },
      "execution_count": null,
      "outputs": [
        {
          "output_type": "execute_result",
          "data": {
            "text/plain": [
              "<matplotlib.image.AxesImage at 0x7f50c29341d0>"
            ]
          },
          "metadata": {},
          "execution_count": 7
        },
        {
          "output_type": "display_data",
          "data": {
            "image/png": "[encoded data removed]",
            "text/plain": [
              "<Figure size 432x288 with 1 Axes>"
            ]
          },
          "metadata": {
            "needs_background": "light"
          }
        }
      ]
    },
    {
      "cell_type": "code",
      "source": [
        "im = clusters[4].reshape((28, 28))\n",
        "\n",
        "plt.imshow(im)"
      ],
      "metadata": {
        "colab": {
          "base_uri": "https://localhost:8080/",
          "height": 282
        },
        "id": "SN710BIRV6zh",
        "outputId": "20665c1e-17de-4fc1-e0ba-aba65f0003b3"
      },
      "execution_count": null,
      "outputs": [
        {
          "output_type": "execute_result",
          "data": {
            "text/plain": [
              "<matplotlib.image.AxesImage at 0x7f50c2898750>"
            ]
          },
          "metadata": {},
          "execution_count": 8
        },
        {
          "output_type": "display_data",
          "data": {
            "image/png": "[encoded data removed]",
            "text/plain": [
              "<Figure size 432x288 with 1 Axes>"
            ]
          },
          "metadata": {
            "needs_background": "light"
          }
        }
      ]
    },
    {
      "cell_type": "code",
      "source": [
        "im = clusters[5].reshape((28, 28))\n",
        "\n",
        "plt.imshow(im)"
      ],
      "metadata": {
        "colab": {
          "base_uri": "https://localhost:8080/",
          "height": 282
        },
        "id": "fSzk8uWvV8v1",
        "outputId": "865a104b-881e-41ef-9869-e558fd34563b"
      },
      "execution_count": null,
      "outputs": [
        {
          "output_type": "execute_result",
          "data": {
            "text/plain": [
              "<matplotlib.image.AxesImage at 0x7f50c2880c10>"
            ]
          },
          "metadata": {},
          "execution_count": 9
        },
        {
          "output_type": "display_data",
          "data": {
            "image/png": "[encoded data removed]",
            "text/plain": [
              "<Figure size 432x288 with 1 Axes>"
            ]
          },
          "metadata": {
            "needs_background": "light"
          }
        }
      ]
    },
    {
      "cell_type": "code",
      "source": [
        "im = clusters[6].reshape((28, 28))\n",
        "\n",
        "plt.imshow(im)"
      ],
      "metadata": {
        "colab": {
          "base_uri": "https://localhost:8080/",
          "height": 282
        },
        "id": "WBxpvWgcV9S3",
        "outputId": "4afcc211-15ed-4a37-b87b-91612c1d485e"
      },
      "execution_count": null,
      "outputs": [
        {
          "output_type": "execute_result",
          "data": {
            "text/plain": [
              "<matplotlib.image.AxesImage at 0x7f50c27f1250>"
            ]
          },
          "metadata": {},
          "execution_count": 10
        },
        {
          "output_type": "display_data",
          "data": {
            "image/png": "[encoded data removed]",
            "text/plain": [
              "<Figure size 432x288 with 1 Axes>"
            ]
          },
          "metadata": {
            "needs_background": "light"
          }
        }
      ]
    },
    {
      "cell_type": "code",
      "source": [
        "im = clusters[7].reshape((28, 28))\n",
        "\n",
        "plt.imshow(im)"
      ],
      "metadata": {
        "colab": {
          "base_uri": "https://localhost:8080/",
          "height": 282
        },
        "id": "uds0_OlUV-Ys",
        "outputId": "e6853f19-ace2-4950-c8d6-f9ad41c00d9c"
      },
      "execution_count": null,
      "outputs": [
        {
          "output_type": "execute_result",
          "data": {
            "text/plain": [
              "<matplotlib.image.AxesImage at 0x7f50c27558d0>"
            ]
          },
          "metadata": {},
          "execution_count": 11
        },
        {
          "output_type": "display_data",
          "data": {
            "image/png": "[encoded data removed]",
            "text/plain": [
              "<Figure size 432x288 with 1 Axes>"
            ]
          },
          "metadata": {
            "needs_background": "light"
          }
        }
      ]
    },
    {
      "cell_type": "code",
      "source": [
        "im = clusters[8].reshape((28, 28))\n",
        "\n",
        "plt.imshow(im)"
      ],
      "metadata": {
        "colab": {
          "base_uri": "https://localhost:8080/",
          "height": 282
        },
        "id": "GgiBqdSwV96p",
        "outputId": "5cd6478f-7cb4-4753-a1d2-ac073086657d"
      },
      "execution_count": null,
      "outputs": [
        {
          "output_type": "execute_result",
          "data": {
            "text/plain": [
              "<matplotlib.image.AxesImage at 0x7f50c2738e10>"
            ]
          },
          "metadata": {},
          "execution_count": 12
        },
        {
          "output_type": "display_data",
          "data": {
            "image/png": "[encoded data removed]",
            "text/plain": [
              "<Figure size 432x288 with 1 Axes>"
            ]
          },
          "metadata": {
            "needs_background": "light"
          }
        }
      ]
    },
    {
      "cell_type": "code",
      "source": [
        "im = clusters[9].reshape((28, 28))\n",
        "\n",
        "plt.imshow(im)"
      ],
      "metadata": {
        "colab": {
          "base_uri": "https://localhost:8080/",
          "height": 282
        },
        "id": "bkbOVQ9qV9pw",
        "outputId": "ad7dec6b-2493-46c4-ed9e-ae609f3ec25b"
      },
      "execution_count": null,
      "outputs": [
        {
          "output_type": "execute_result",
          "data": {
            "text/plain": [
              "<matplotlib.image.AxesImage at 0x7f50c26ad3d0>"
            ]
          },
          "metadata": {},
          "execution_count": 13
        },
        {
          "output_type": "display_data",
          "data": {
            "image/png": "[encoded data removed]",
            "text/plain": [
              "<Figure size 432x288 with 1 Axes>"
            ]
          },
          "metadata": {
            "needs_background": "light"
          }
        }
      ]
    },
    {
      "cell_type": "markdown",
      "metadata": {
        "id": "p1nrRGiPT4gw"
      },
      "source": [
        "## Checking quality of the final cluster using J\n",
        "a) ![Picture1.png](data:image/png;base64,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)"
      ]
    },
    {
      "cell_type": "code",
      "metadata": {
        "id": "xUkB8zyNT3cM"
      },
      "source": [
        "# N = number of images\n",
        "N = images.shape[0]\n",
        "\n",
        "# initialize sum\n",
        "sum = np.zeros(images.shape[1])\n",
        "\n",
        "# x = image, z = clusters\n",
        "for index, image in enumerate(images):\n",
        "  sum += np.linalg.norm(image - clusters[cluster_affiliations[index]]) ** 2\n",
        "\n",
        "# calculating J\n",
        "J = sum / N\n",
        "\n",
        "# check if all elements in J are same\n",
        "good = np.all(J == J[0])\n",
        "#print(J)\n",
        "if good:\n",
        "  print('Quality Good!')"
      ],
      "execution_count": null,
      "outputs": []
    },
    {
      "cell_type": "markdown",
      "metadata": {
        "id": "y1l2Hd9zecaC"
      },
      "source": [
        "## Checking quality of the final cluster using Davies–Bouldin index\n",
        "\n",
        "b) Davies–Bouldin index\n",
        "![p2.png](data:image/png;base64,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)\n",
        "\n",
        "A lower Davies-Bouldin index relates to a model with better \n",
        "separation between the clusters. This index signifies the \n",
        "average ‘similarity’ between clusters, where the similarity \n",
        "is a measure that compares the distance between clusters with \n",
        "the size of the clusters themselves. Zero is the lowest possible \n",
        "score. Values closer to zero indicate a better partition.\n",
        "\n",
        "Reference: sklearn documentation"
      ]
    },
    {
      "cell_type": "code",
      "metadata": {
        "colab": {
          "base_uri": "https://localhost:8080/"
        },
        "id": "KBRPHiOKeb3b",
        "outputId": "ac1e621c-7bff-4e1a-bf39-c4971369377c"
      },
      "source": [
        "from sklearn.metrics import davies_bouldin_score\n",
        "\n",
        "db_score = davies_bouldin_score(images, cluster_affiliations)\n",
        "print('Davies Bouldin Index Score: {}'.format(db_score))"
      ],
      "execution_count": null,
      "outputs": [
        {
          "output_type": "stream",
          "name": "stdout",
          "text": [
            "Davies Bouldin Index Score: 2.8373012643848625\n"
          ]
        }
      ]
    },
    {
      "cell_type": "markdown",
      "metadata": {
        "id": "0Umflb4BwJ5t"
      },
      "source": [
        "## Checking quality of the final cluster using Dunn index\n",
        "c) Dunn index\n",
        "\n",
        "It is calculated as the lowest intercluster distance (ie. the smallest distance \n",
        "between any two cluster centroids) divided by the highest intracluster distance \n",
        "(ie. the largest distance between any two points in any cluster).\n",
        "The higher the value of the Dunn index, the better the aggregation. \n",
        "The number of clusters which maximizes the Dunn index is considered to be the \n",
        "optimal number of clusters k. It also has some drawbacks. As the number of \n",
        "clusters and the dimensionality of the data increase, so does the cost of computation. \n",
        "(Reference: \n",
        "1. https://en.wikipedia.org/wiki/Dunn_index \n",
        "2. https://python.engineering/dunn-index-and-db-index-cluster-validity-indices-set-1/\n",
        "3. https://mayankdw.medium.com/k-means-clustering-and-dunn-index-implementaion-from-scratch-9c66573bfe90)\n"
      ]
    },
    {
      "cell_type": "code",
      "metadata": {
        "colab": {
          "base_uri": "https://localhost:8080/"
        },
        "id": "Yu66T17lwbDE",
        "outputId": "cfeb1b38-3779-47ad-fe95-040798839583"
      },
      "source": [
        "import math\n",
        "\n",
        "# find euclidean distance between two points \n",
        "def find_distance(point, cluster_point):\n",
        "    distance = math.sqrt(np.sum(np.power(np.subtract(point, cluster_point), 2))) \n",
        "    return distance\n",
        "\n",
        "# find lowest intercluster distance\n",
        "def get_lowest_intercluster_distance(clusters):\n",
        "  min_intercluster_distance = float('inf')\n",
        "\n",
        "  for index_1, cluster_1 in enumerate(clusters):\n",
        "    for index_2, cluster_2 in enumerate(clusters):\n",
        "      distance = float('inf')\n",
        "      \n",
        "      if index_1 == 0 and index_2 == 1:\n",
        "        distance = find_distance(cluster_1, cluster_2)\n",
        "        min_intercluster_distance = distance\n",
        "      \n",
        "      else:\n",
        "        if np.any(cluster_1 != cluster_2):\n",
        "          distance = find_distance(cluster_1, cluster_2)\n",
        "      \n",
        "        if distance < min_intercluster_distance:\n",
        "          min_intercluster_distance = distance\n",
        "    \n",
        "    return min_intercluster_distance\n",
        "\n",
        "# find highest intracluster distance\n",
        "def get_highest_intracluster_distance(images):\n",
        "  max_intracluster_distance = float('inf')\n",
        "\n",
        "  for index_1, point_1 in enumerate(images):\n",
        "    for index_2, point_2 in enumerate(images):\n",
        "      distance = float('inf')\n",
        "      \n",
        "      if index_1 == 0 and index_2 == 1:\n",
        "        distance = find_distance(point_1, point_2)\n",
        "        max_intracluster_distance = distance\n",
        "      \n",
        "      else:\n",
        "        if np.any(point_1 != point_2):\n",
        "          distance = find_distance(point_1, point_2)\n",
        "      \n",
        "        if distance > max_intracluster_distance:\n",
        "          max_intracluster_distance = distance\n",
        "    \n",
        "    return max_intracluster_distance\n",
        "\n",
        "# find dunn index\n",
        "def dunn_index(images, clusters):\n",
        "  lowest_intercluster_distance = get_lowest_intercluster_distance(clusters)\n",
        "\n",
        "  highest_intracluster_distance = get_highest_intracluster_distance(images)\n",
        "\n",
        "  return lowest_intercluster_distance/highest_intracluster_distance\n",
        "\n",
        "dunn_index_score = dunn_index(images, clusters)\n",
        "\n",
        "# Print Dunn Index Score\n",
        "print('Dunn Index Score: {}'.format(dunn_index_score))\n"
      ],
      "execution_count": null,
      "outputs": [
        {
          "output_type": "stream",
          "name": "stdout",
          "text": [
            "Dunn Index Score: 6.783823761595991\n"
          ]
        }
      ]
    },
    {
      "cell_type": "markdown",
      "metadata": {
        "id": "v-65ABymBIqD"
      },
      "source": [
        "# GITZAN Dataset Audio Data KMeans Clustering"
      ]
    },
    {
      "cell_type": "markdown",
      "metadata": {
        "id": "B9HVskqaXW-x"
      },
      "source": [
        "## Calculating Filter Banks and MFCCs"
      ]
    },
    {
      "cell_type": "code",
      "source": [
        "import os"
      ],
      "metadata": {
        "id": "ifO7vhxLzx3X"
      },
      "execution_count": null,
      "outputs": []
    },
    {
      "cell_type": "code",
      "metadata": {
        "id": "BFaZ8DtqCcrR"
      },
      "source": [
        "import numpy as np\n",
        "import scipy.io.wavfile\n",
        "from scipy.fftpack import dct\n",
        "import scipy.signal as sps\n",
        "from io import BytesIO\n",
        "\n",
        "def reSampleSignal(sample_rate, signal):\n",
        "  new_sample_rate = 1000\n",
        "\n",
        "  # Resample data\n",
        "  number_of_samples = round(len(signal) * float(new_sample_rate) / sample_rate)\n",
        "  resampled_signal = sps.resample(signal, number_of_samples)\n",
        "  return new_sample_rate, resampled_signal\n",
        "\n",
        "def preEmphasis(signal):\n",
        "  pre_emphasis = 0.90\n",
        "  emphasized_signal = np.append(signal, signal[1:] - pre_emphasis * signal[:-1])\n",
        "  return emphasized_signal\n",
        "\n",
        "def framing(emphasized_signal, sample_rate):\n",
        "  # in seconds\n",
        "  frame_size = 0.050\n",
        "  # in seconds\n",
        "  frame_stride = 0.025\n",
        "\n",
        "  # Converting seconds to samples\n",
        "  frame_length, frame_step = frame_size * sample_rate, frame_stride * sample_rate\n",
        "\n",
        "  # Calculating the number of frames required\n",
        "  signal_length = len(emphasized_signal)\n",
        "  frame_length = int(round(frame_length))\n",
        "  frame_step = int(round(frame_step))\n",
        "  num_frames = int(np.ceil(float(np.abs(signal_length - frame_length)) / frame_step))  # Make sure that we have at least 1 frame\n",
        "\n",
        "  # Pad Signal to make sure that all frames have equal number of samples without truncating any samples from the original signal\n",
        "  pad_signal_length = num_frames * frame_step + frame_length\n",
        "  z = np.zeros((pad_signal_length - signal_length))\n",
        "  pad_signal = np.append(emphasized_signal, z)\n",
        "\n",
        "  # Create indices for frames and create the frames\n",
        "  indices = np.tile(np.arange(0, frame_length), (num_frames, 1)) + np.tile(np.arange(0, num_frames * frame_step, frame_step), (frame_length, 1)).T\n",
        "  frames = pad_signal[indices.astype(np.int32, copy=False)]\n",
        "\n",
        "  return frame_length, frames\n",
        "\n",
        "def applyWindowFunction(frame_length, frames):\n",
        "  frames *= np.hamming(frame_length)\n",
        "  return frames\n",
        "\n",
        "def fourierTransformAndPowerSpectrum(frames, NFFT):\n",
        "  # compute power spectrum (periodogram)\n",
        "  mag_frames = np.absolute(np.fft.rfft(frames, NFFT))  # Magnitude of the FFT\n",
        "  pow_frames = ((1.0 / NFFT) * (mag_frames ** 2))  # Power Spectrum\n",
        "\n",
        "  return mag_frames, pow_frames\n",
        "\n",
        "def computeFilterBanks(sample_rate, NFFT, pow_frames):\n",
        "  nfilt = 40\n",
        "\n",
        "  low_freq_mel = 0\n",
        "  high_freq_mel = (2595 * np.log10(1 + (sample_rate / 2) / 700))  # Convert Hz to Mel\n",
        "  mel_points = np.linspace(low_freq_mel, high_freq_mel, nfilt + 2)  # Equally spaced in Mel scale\n",
        "  hz_points = (700 * (10**(mel_points / 2595) - 1))  # Convert Mel to Hz\n",
        "  bin_ = np.floor((NFFT + 1) * hz_points / sample_rate)\n",
        "\n",
        "  fbank = np.zeros((nfilt, int(np.floor(NFFT / 2 + 1))))\n",
        "\n",
        "  for m in range(1, nfilt + 1):\n",
        "      f_m_minus = int(bin_[m - 1])   # left\n",
        "      f_m = int(bin_[m])             # center\n",
        "      f_m_plus = int(bin_[m + 1])    # right\n",
        "\n",
        "      for k in range(f_m_minus, f_m):\n",
        "          fbank[m - 1, k] = (k - bin_[m - 1]) / (bin_[m] - bin_[m - 1])\n",
        "      for k in range(f_m, f_m_plus):\n",
        "          fbank[m - 1, k] = (bin_[m + 1] - k) / (bin_[m + 1] - bin_[m])\n",
        "\n",
        "  filter_banks = np.dot(pow_frames, fbank.T)\n",
        "  filter_banks = np.where(filter_banks == 0, np.finfo(float).eps, filter_banks)  # Numerical Stability\n",
        "  filter_banks = 20 * np.log10(filter_banks)  # dB\n",
        "\n",
        "  return filter_banks\n",
        "\n",
        "def getMFCC(filter_banks):\n",
        "  num_ceps = 39\n",
        "\n",
        "  mfcc = dct(filter_banks, type=1, axis=1, norm='ortho')[:, 1: (num_ceps + 1)]  # Keep keeping all 39 cepstral coefficients\n",
        "  return mfcc\n",
        "\n",
        "def dataNormalization(mfcc, filter_banks):\n",
        "  filter_banks -= (np.mean(filter_banks, axis=0) + 1e-8)\n",
        "  mfcc -= (np.mean(mfcc, axis=0) + 1e-8)\n",
        "  \n",
        "  return mfcc, filter_banks\n",
        "\n",
        "def getMFCCandFilterBanks(file_name):\n",
        "  file_name = file_name\n",
        "  sample_rate, signal = scipy.io.wavfile.read(file_name)\n",
        "\n",
        "  NFFT = 512\n",
        "\n",
        "  sample_rate, resampled_signal = reSampleSignal(sample_rate, signal)\n",
        "  emphasized_signal = preEmphasis(resampled_signal)\n",
        "  frame_length, frames = framing(emphasized_signal, sample_rate)\n",
        "  \n",
        "  frames = applyWindowFunction(frame_length, frames)\n",
        "  #print(frames.shape)\n",
        "\n",
        "  mag_frames, pow_frames = fourierTransformAndPowerSpectrum(frames, NFFT)\n",
        "\n",
        "  filter_banks = computeFilterBanks(sample_rate, NFFT, pow_frames)\n",
        "  mfcc = getMFCC(filter_banks)\n",
        "  mfcc, filter_banks = dataNormalization(mfcc, filter_banks)\n",
        "  \n",
        "  mfcc = np.concatenate(mfcc, axis=None)\n",
        "  #print(mfcc.shape)\n",
        "\n",
        "  return mfcc, filter_banks"
      ],
      "execution_count": null,
      "outputs": []
    },
    {
      "cell_type": "markdown",
      "metadata": {
        "id": "RldGqF1qe0Rv"
      },
      "source": [
        "## Reading songs from each genre and creating feature vectors using mfcc for each of the song"
      ]
    },
    {
      "cell_type": "code",
      "metadata": {
        "id": "WYxnwGSQbfOP"
      },
      "source": [
        "import os\n",
        "from google.colab import drive\n",
        "\n",
        "mfcc_feature_vectors = []\n",
        "\n",
        "path = '/content/drive/MyDrive/gitzan_dataset/genres_original/'\n",
        "\n",
        "folders = ['blues', 'classical', 'country', 'disco', 'hiphop', 'jazz', 'metal', 'pop', 'reggae', 'rock']\n",
        "all_wav_files = []\n",
        "count = 0\n",
        "\n",
        "for folder in folders:\n",
        "  os.chdir(path + folder)\n",
        "  files_in_folder = os.listdir()\n",
        "  files_in_folder = files_in_folder[:int(0.75 * len(files_in_folder))]\n",
        "\n",
        "  for file in files_in_folder:\n",
        "    all_wav_files.append(file)\n",
        "\n",
        "    mfcc, filter_banks = getMFCCandFilterBanks(file)\n",
        "    mfcc_feature_vectors.append(mfcc)"
      ],
      "execution_count": null,
      "outputs": []
    },
    {
      "cell_type": "markdown",
      "metadata": {
        "id": "n3lz2Cvz6qY6"
      },
      "source": [
        "## Padding the feature vectors to be of equal length"
      ]
    },
    {
      "cell_type": "code",
      "metadata": {
        "colab": {
          "base_uri": "https://localhost:8080/"
        },
        "id": "H-yhFpouhITB",
        "outputId": "6c5ec8ca-e941-4579-c8ee-7bbf9dfd4bd2"
      },
      "source": [
        "length_of_longest_mfcc = max(map(len, mfcc_feature_vectors))\n",
        "print(length_of_longest_mfcc)\n",
        "\n",
        "for i in range(len(mfcc_feature_vectors)):\n",
        "  length_of_current_mfcc = len(mfcc_feature_vectors[i])\n",
        "  if length_of_current_mfcc < length_of_longest_mfcc:\n",
        "    temp_new_feature_vector = np.append(mfcc_feature_vectors[i], np.zeros(length_of_longest_mfcc - length_of_current_mfcc))\n",
        "    mfcc_feature_vectors[i] = temp_new_feature_vector\n",
        "\n",
        "new_mfcc_feature_vectors = np.asarray(mfcc_feature_vectors)\n",
        "print(new_mfcc_feature_vectors.shape)\n",
        "print(new_mfcc_feature_vectors)"
      ],
      "execution_count": null,
      "outputs": [
        {
          "output_type": "stream",
          "name": "stdout",
          "text": [
            "95550\n",
            "(749, 95550)\n",
            "[[ 34.13801102  32.75766565  34.60760039 ...   0.           0.\n",
            "    0.        ]\n",
            " [ 70.67906221  16.93190667 -13.40626184 ...   0.           0.\n",
            "    0.        ]\n",
            " [-28.53121065  23.67298302  20.81064331 ...   0.           0.\n",
            "    0.        ]\n",
            " ...\n",
            " [ 86.73858112  46.64724625 -12.63693595 ...   0.           0.\n",
            "    0.        ]\n",
            " [  1.342779    27.62547434  25.09087546 ...   0.           0.\n",
            "    0.        ]\n",
            " [ 50.54159725   6.08130187 -13.106142   ...   0.           0.\n",
            "    0.        ]]\n"
          ]
        }
      ]
    },
    {
      "cell_type": "markdown",
      "metadata": {
        "id": "pWjG-mrS-lHI"
      },
      "source": [
        "## Performing KMeans Algorithm on each song"
      ]
    },
    {
      "cell_type": "code",
      "metadata": {
        "colab": {
          "base_uri": "https://localhost:8080/"
        },
        "id": "080nV2B4-rEm",
        "outputId": "da15036c-880a-4d02-c222-4fc317481a75"
      },
      "source": [
        "# K Clusters\n",
        "K = 10\n",
        "\n",
        "print('GTZAN Data Kmeans Started: ')\n",
        "start_time = time.time()\n",
        "\n",
        "# Running KMeans on images 10 times and making 10 clusters\n",
        "# Initialization of centroids are done randomly\n",
        "kmeans = KMeans(n_clusters=K, init='random', n_init=K).fit(new_mfcc_feature_vectors)\n",
        "\n",
        "print('GTZAN Data Kmeans  Ended: ')\n",
        "print(\"--- %s seconds ---\" % (time.time() - start_time))\n",
        "\n",
        "# the cluster centers or centroids\n",
        "clusters = kmeans.cluster_centers_\n",
        "\n",
        "# find which points in the sample belong to which cluster\n",
        "cluster_affiliations = kmeans.predict(new_mfcc_feature_vectors)\n",
        "\n",
        "print('Labels: ', np.unique(kmeans.labels_))\n",
        "\n",
        "print('Total Number of Clusters: ', len(clusters))\n",
        "print('Clusters: ', clusters)\n",
        "\n",
        "print('Total Number of points in all clusters: ', len(cluster_affiliations))\n",
        "print('Cluster Affiliations: ', cluster_affiliations)"
      ],
      "execution_count": null,
      "outputs": [
        {
          "output_type": "stream",
          "name": "stdout",
          "text": [
            "GTZAN Data Kmeans Started: \n",
            "GTZAN Data Kmeans  Ended: \n",
            "--- 25.91285800933838 seconds ---\n",
            "Labels:  [0 1 2 3 4 5 6 7 8 9]\n",
            "Total Number of Clusters:  10\n",
            "Clusters:  [[ 3.56144068e+01  1.16242928e+01 -1.17797970e+01 ...  0.00000000e+00\n",
            "   0.00000000e+00  0.00000000e+00]\n",
            " [-4.70487104e+00 -1.15069254e+00  2.15528022e+00 ...  0.00000000e+00\n",
            "   0.00000000e+00  0.00000000e+00]\n",
            " [ 3.19428498e+01  1.12917193e+01  4.61029877e+00 ... -2.37231706e-03\n",
            "   5.21316664e-03 -5.67690468e-03]\n",
            " ...\n",
            " [ 3.52623435e+01 -4.78373268e+01  3.96571403e+01 ...  0.00000000e+00\n",
            "   0.00000000e+00  0.00000000e+00]\n",
            " [ 1.40983267e+02  1.04018516e+02  2.27589038e+01 ...  0.00000000e+00\n",
            "   0.00000000e+00  0.00000000e+00]\n",
            " [ 4.16548231e+01  2.59625128e+01 -2.34919167e+00 ...  0.00000000e+00\n",
            "   0.00000000e+00  0.00000000e+00]]\n",
            "Total Number of points in all clusters:  749\n",
            "Cluster Affiliations:  [2 2 4 2 4 2 4 2 4 2 4 4 2 4 2 2 2 4 2 4 4 2 4 2 2 4 2 2 4 4 4 4 4 4 2 4 4\n",
            " 2 4 4 2 4 2 4 2 2 2 2 2 4 4 2 2 4 4 4 4 4 4 4 4 2 2 4 4 4 2 2 2 4 2 2 4 4\n",
            " 2 2 2 2 2 4 2 4 2 2 7 4 2 2 2 4 4 4 2 2 2 4 2 2 4 2 2 2 2 4 2 2 2 2 2 4 2\n",
            " 4 4 2 2 2 4 4 2 4 4 2 2 2 2 2 4 2 2 2 2 2 2 2 2 2 4 2 4 4 4 2 4 4 4 2 4 2\n",
            " 4 2 4 2 4 4 4 4 2 1 2 4 4 4 4 4 2 4 4 4 2 4 4 2 4 4 4 2 2 2 2 2 2 2 2 2 2\n",
            " 2 4 4 2 4 2 4 2 4 4 4 2 2 2 2 2 2 4 2 4 2 2 4 2 4 4 4 2 4 4 4 2 4 2 2 2 4\n",
            " 2 2 5 4 2 4 2 4 2 4 2 4 4 4 2 4 4 2 2 2 2 4 2 4 4 2 4 2 4 2 2 2 4 2 2 4 4\n",
            " 4 2 4 4 4 4 2 2 2 2 2 4 4 2 2 4 2 2 2 2 2 2 4 4 4 2 2 4 4 4 2 2 2 4 4 2 2\n",
            " 4 4 2 2 4 2 4 4 4 4 2 4 2 2 4 2 2 4 2 2 2 4 4 4 2 4 2 4 2 4 2 2 2 2 4 4 2\n",
            " 4 2 4 4 4 2 4 4 4 4 4 2 4 4 2 4 4 2 2 4 4 4 4 4 4 2 4 2 4 4 4 4 4 2 2 2 4\n",
            " 4 8 8 2 4 2 4 4 2 4 4 2 4 4 4 4 4 4 2 4 2 4 2 4 4 2 4 4 2 4 2 2 2 2 2 2 2\n",
            " 2 6 2 4 2 4 4 4 2 4 2 9 4 4 2 2 2 4 2 2 2 4 4 2 4 2 2 4 4 4 2 2 2 2 4 4 4\n",
            " 9 2 2 4 2 4 2 2 4 4 4 2 2 4 2 4 4 2 2 2 2 4 2 2 4 2 2 4 2 2 2 2 2 2 4 4 2\n",
            " 4 4 4 4 2 4 2 2 2 4 2 2 2 4 4 2 2 2 2 2 4 4 2 4 2 2 4 2 2 4 2 2 2 2 2 2 2\n",
            " 2 4 4 2 2 2 4 4 2 4 4 4 4 2 2 2 4 2 4 4 2 2 2 2 2 4 2 2 2 2 4 4 2 2 2 4 2\n",
            " 2 2 2 4 4 2 2 4 4 0 4 4 2 2 2 4 4 2 4 2 4 2 3 2 2 4 4 2 4 2 2 4 2 4 4 4 4\n",
            " 4 2 2 2 4 4 4 2 4 4 4 4 4 4 4 0 4 2 4 4 2 4 2 2 4 2 4 4 2 4 4 4 2 2 2 2 2\n",
            " 4 4 2 2 4 2 4 2 4 4 2 2 2 2 4 4 2 2 4 2 4 4 2 4 2 4 4 2 2 4 2 2 2 2 4 4 2\n",
            " 0 4 4 4 4 0 2 4 4 2 2 2 2 4 4 4 2 2 4 2 2 4 2 2 4 2 2 4 2 4 2 2 2 4 2 4 2\n",
            " 4 4 2 2 2 2 4 4 4 4 4 2 4 2 2 4 2 4 2 4 4 4 4 4 4 2 4 4 4 4 2 2 2 2 4 2 4\n",
            " 2 2 2 2 2 2 2 4 2]\n"
          ]
        }
      ]
    },
    {
      "cell_type": "markdown",
      "metadata": {
        "id": "OIs1zkuD7gLi"
      },
      "source": [
        "## Checking quality of the final cluster using J\n",
        "a) ![Picture1.png](data:image/png;base64,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)"
      ]
    },
    {
      "cell_type": "code",
      "metadata": {
        "colab": {
          "base_uri": "https://localhost:8080/"
        },
        "id": "G5WhvzPf7ogv",
        "outputId": "8bab310f-1976-4bd4-89f4-3de64b73f9e8"
      },
      "source": [
        "# N = number of images\n",
        "N = new_mfcc_feature_vectors.shape[0]\n",
        "\n",
        "# initialize sum\n",
        "sum = np.zeros(new_mfcc_feature_vectors.shape[1])\n",
        "\n",
        "# x = new_mfcc_feature_vectors, z = clusters\n",
        "for index, feature_vector in enumerate(new_mfcc_feature_vectors):\n",
        "  sum += np.linalg.norm(feature_vector - clusters[cluster_affiliations[index]]) ** 2\n",
        "\n",
        "# calculating J\n",
        "J = sum / N\n",
        "\n",
        "# check if all elements in J are same\n",
        "good = np.all(J == J[0])\n",
        "\n",
        "if good:\n",
        "  print(J)\n",
        "  print('Quality Good!')"
      ],
      "execution_count": null,
      "outputs": [
        {
          "output_type": "stream",
          "name": "stdout",
          "text": [
            "[21252409.11518516 21252409.11518516 21252409.11518516 ...\n",
            " 21252409.11518516 21252409.11518516 21252409.11518516]\n",
            "Quality Good!\n"
          ]
        }
      ]
    },
    {
      "cell_type": "markdown",
      "metadata": {
        "id": "_rqcprDX8FhG"
      },
      "source": [
        "## Checking quality of the final cluster using Davies–Bouldin index\n",
        "\n",
        "b) Davies–Bouldin index\n",
        "![p2.png](data:image/png;base64,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)\n",
        "\n",
        "A lower Davies-Bouldin index relates to a model with better \n",
        "separation between the clusters. This index signifies the \n",
        "average ‘similarity’ between clusters, where the similarity \n",
        "is a measure that compares the distance between clusters with \n",
        "the size of the clusters themselves. Zero is the lowest possible \n",
        "score. Values closer to zero indicate a better partition.\n",
        "\n",
        "Reference: sklearn documentation"
      ]
    },
    {
      "cell_type": "code",
      "metadata": {
        "colab": {
          "base_uri": "https://localhost:8080/"
        },
        "id": "Wv8-qHCS8KcL",
        "outputId": "5db12a67-aa39-4aca-e143-067d33f08aa6"
      },
      "source": [
        "from sklearn.metrics import davies_bouldin_score\n",
        "\n",
        "db_score = davies_bouldin_score(new_mfcc_feature_vectors, cluster_affiliations)\n",
        "print('Davies Bouldin Index Score: {}'.format(db_score))"
      ],
      "execution_count": null,
      "outputs": [
        {
          "output_type": "stream",
          "name": "stdout",
          "text": [
            "Davies Bouldin Index Score: 3.6501328457674624\n"
          ]
        }
      ]
    },
    {
      "cell_type": "markdown",
      "metadata": {
        "id": "FxYC5k5J8S74"
      },
      "source": [
        "## Checking quality of the final cluster using Dunn index\n",
        "c) Dunn index\n",
        "\n",
        "It is calculated as the lowest intercluster distance (ie. the smallest distance \n",
        "between any two cluster centroids) divided by the highest intracluster distance \n",
        "(ie. the largest distance between any two points in any cluster).\n",
        "The higher the value of the Dunn index, the better the aggregation. \n",
        "The number of clusters which maximizes the Dunn index is considered to be the \n",
        "optimal number of clusters k. It also has some drawbacks. As the number of \n",
        "clusters and the dimensionality of the data increase, so does the cost of computation. \n",
        "(Reference: \n",
        "1. https://en.wikipedia.org/wiki/Dunn_index \n",
        "2. https://python.engineering/dunn-index-and-db-index-cluster-validity-indices-set-1/\n",
        "3. https://mayankdw.medium.com/k-means-clustering-and-dunn-index-implementaion-from-scratch-9c66573bfe90)\n"
      ]
    },
    {
      "cell_type": "code",
      "metadata": {
        "colab": {
          "base_uri": "https://localhost:8080/"
        },
        "id": "0yWA6-JR8Yce",
        "outputId": "e9686249-aa4e-4580-8873-20efc05d769e"
      },
      "source": [
        "import math\n",
        "\n",
        "# find euclidean distance between two points \n",
        "def find_distance(point, cluster_point):\n",
        "    distance = math.sqrt(np.sum(np.power(np.subtract(point, cluster_point), 2))) \n",
        "    return distance\n",
        "\n",
        "# find lowest intercluster distance\n",
        "def get_lowest_intercluster_distance(clusters):\n",
        "  min_intercluster_distance = float('inf')\n",
        "\n",
        "  for index_1, cluster_1 in enumerate(clusters):\n",
        "    for index_2, cluster_2 in enumerate(clusters):\n",
        "      distance = float('inf')\n",
        "      \n",
        "      if index_1 == 0 and index_2 == 1:\n",
        "        distance = find_distance(cluster_1, cluster_2)\n",
        "        min_intercluster_distance = distance\n",
        "      \n",
        "      else:\n",
        "        if np.any(cluster_1 != cluster_2):\n",
        "          distance = find_distance(cluster_1, cluster_2)\n",
        "      \n",
        "        if distance < min_intercluster_distance:\n",
        "          min_intercluster_distance = distance\n",
        "    \n",
        "    return min_intercluster_distance\n",
        "\n",
        "# find highest intracluster distance\n",
        "def get_highest_intracluster_distance(new_mfcc_feature_vectors):\n",
        "  max_intracluster_distance = float('inf')\n",
        "\n",
        "  for index_1, point_1 in enumerate(new_mfcc_feature_vectors):\n",
        "    for index_2, point_2 in enumerate(new_mfcc_feature_vectors):\n",
        "      distance = float('inf')\n",
        "      \n",
        "      if index_1 == 0 and index_2 == 1:\n",
        "        distance = find_distance(point_1, point_2)\n",
        "        max_intracluster_distance = distance\n",
        "      \n",
        "      else:\n",
        "        if np.any(point_1 != point_2):\n",
        "          distance = find_distance(point_1, point_2)\n",
        "      \n",
        "        if distance > max_intracluster_distance:\n",
        "          max_intracluster_distance = distance\n",
        "    \n",
        "    return max_intracluster_distance\n",
        "\n",
        "# find dunn index\n",
        "def dunn_index(new_mfcc_feature_vectors, clusters):\n",
        "  lowest_intercluster_distance = get_lowest_intercluster_distance(clusters)\n",
        "\n",
        "  highest_intracluster_distance = get_highest_intracluster_distance(new_mfcc_feature_vectors)\n",
        "\n",
        "  return lowest_intercluster_distance/highest_intracluster_distance\n",
        "\n",
        "dunn_index_score = dunn_index(new_mfcc_feature_vectors, clusters)\n",
        "\n",
        "# Print Dunn Index Score\n",
        "print('Dunn Index Score: {}'.format(dunn_index_score))"
      ],
      "execution_count": null,
      "outputs": [
        {
          "output_type": "stream",
          "name": "stdout",
          "text": [
            "Dunn Index Score: 0.3517043521897523\n"
          ]
        }
      ]
    },
    {
      "cell_type": "markdown",
      "metadata": {
        "id": "DtZZLn-eLBzl"
      },
      "source": [
        "# Reddit Comments Text Data KMeans Clustering"
      ]
    },
    {
      "cell_type": "markdown",
      "metadata": {
        "id": "lRIyWVGlLOek"
      },
      "source": [
        "## Getting the Reddit Comments Text Data and extracting relevant information\n",
        "\n",
        "Dataset URL: https://www.kaggle.com/kaggle/reddit-comments-may-2015"
      ]
    },
    {
      "cell_type": "code",
      "source": [
        "from google.colab import drive\n",
        "drive.mount('/content/drive')"
      ],
      "metadata": {
        "colab": {
          "base_uri": "https://localhost:8080/"
        },
        "id": "0w_kBWlNXGrw",
        "outputId": "b6dc838d-da25-4798-c6f5-27cc77627b54"
      },
      "execution_count": null,
      "outputs": [
        {
          "output_type": "stream",
          "name": "stdout",
          "text": [
            "Drive already mounted at /content/drive; to attempt to forcibly remount, call drive.mount(\"/content/drive\", force_remount=True).\n"
          ]
        }
      ]
    },
    {
      "cell_type": "code",
      "source": [
        "!pip install langdetect"
      ],
      "metadata": {
        "colab": {
          "base_uri": "https://localhost:8080/"
        },
        "id": "5bzPQ1D4wdOu",
        "outputId": "c0288965-5b2a-457c-966f-7bf05fc0a1a6"
      },
      "execution_count": null,
      "outputs": [
        {
          "output_type": "stream",
          "name": "stdout",
          "text": [
            "Collecting langdetect\n",
            "  Downloading langdetect-1.0.9.tar.gz (981 kB)\n",
            "\u001b[?25l\r\u001b[K     |▍                               | 10 kB 24.7 MB/s eta 0:00:01\r\u001b[K     |▊                               | 20 kB 31.6 MB/s eta 0:00:01\r\u001b[K     |█                               | 30 kB 20.1 MB/s eta 0:00:01\r\u001b[K     |█▍                              | 40 kB 16.9 MB/s eta 0:00:01\r\u001b[K     |█▊                              | 51 kB 12.2 MB/s eta 0:00:01\r\u001b[K     |██                              | 61 kB 13.2 MB/s eta 0:00:01\r\u001b[K     |██▍                             | 71 kB 11.9 MB/s eta 0:00:01\r\u001b[K     |██▊                             | 81 kB 13.2 MB/s eta 0:00:01\r\u001b[K     |███                             | 92 kB 13.4 MB/s eta 0:00:01\r\u001b[K     |███▍                            | 102 kB 12.3 MB/s eta 0:00:01\r\u001b[K     |███▊                            | 112 kB 12.3 MB/s eta 0:00:01\r\u001b[K     |████                            | 122 kB 12.3 MB/s eta 0:00:01\r\u001b[K     |████▍                           | 133 kB 12.3 MB/s eta 0:00:01\r\u001b[K     |████▊                           | 143 kB 12.3 MB/s eta 0:00:01\r\u001b[K     |█████                           | 153 kB 12.3 MB/s eta 0:00:01\r\u001b[K     |█████▍                          | 163 kB 12.3 MB/s eta 0:00:01\r\u001b[K     |█████▊                          | 174 kB 12.3 MB/s eta 0:00:01\r\u001b[K     |██████                          | 184 kB 12.3 MB/s eta 0:00:01\r\u001b[K     |██████▍                         | 194 kB 12.3 MB/s eta 0:00:01\r\u001b[K     |██████▊                         | 204 kB 12.3 MB/s eta 0:00:01\r\u001b[K     |███████                         | 215 kB 12.3 MB/s eta 0:00:01\r\u001b[K     |███████▍                        | 225 kB 12.3 MB/s eta 0:00:01\r\u001b[K     |███████▊                        | 235 kB 12.3 MB/s eta 0:00:01\r\u001b[K     |████████                        | 245 kB 12.3 MB/s eta 0:00:01\r\u001b[K     |████████▍                       | 256 kB 12.3 MB/s eta 0:00:01\r\u001b[K     |████████▊                       | 266 kB 12.3 MB/s eta 0:00:01\r\u001b[K     |█████████                       | 276 kB 12.3 MB/s eta 0:00:01\r\u001b[K     |█████████▍                      | 286 kB 12.3 MB/s eta 0:00:01\r\u001b[K     |█████████▊                      | 296 kB 12.3 MB/s eta 0:00:01\r\u001b[K     |██████████                      | 307 kB 12.3 MB/s eta 0:00:01\r\u001b[K     |██████████▍                     | 317 kB 12.3 MB/s eta 0:00:01\r\u001b[K     |██████████▊                     | 327 kB 12.3 MB/s eta 0:00:01\r\u001b[K     |███████████                     | 337 kB 12.3 MB/s eta 0:00:01\r\u001b[K     |███████████▍                    | 348 kB 12.3 MB/s eta 0:00:01\r\u001b[K     |███████████▊                    | 358 kB 12.3 MB/s eta 0:00:01\r\u001b[K     |████████████                    | 368 kB 12.3 MB/s eta 0:00:01\r\u001b[K     |████████████▍                   | 378 kB 12.3 MB/s eta 0:00:01\r\u001b[K     |████████████▊                   | 389 kB 12.3 MB/s eta 0:00:01\r\u001b[K     |█████████████                   | 399 kB 12.3 MB/s eta 0:00:01\r\u001b[K     |█████████████▍                  | 409 kB 12.3 MB/s eta 0:00:01\r\u001b[K     |█████████████▊                  | 419 kB 12.3 MB/s eta 0:00:01\r\u001b[K     |██████████████                  | 430 kB 12.3 MB/s eta 0:00:01\r\u001b[K     |██████████████▍                 | 440 kB 12.3 MB/s eta 0:00:01\r\u001b[K     |██████████████▊                 | 450 kB 12.3 MB/s eta 0:00:01\r\u001b[K     |███████████████                 | 460 kB 12.3 MB/s eta 0:00:01\r\u001b[K     |███████████████▍                | 471 kB 12.3 MB/s eta 0:00:01\r\u001b[K     |███████████████▊                | 481 kB 12.3 MB/s eta 0:00:01\r\u001b[K     |████████████████                | 491 kB 12.3 MB/s eta 0:00:01\r\u001b[K     |████████████████▍               | 501 kB 12.3 MB/s eta 0:00:01\r\u001b[K     |████████████████▊               | 512 kB 12.3 MB/s eta 0:00:01\r\u001b[K     |█████████████████               | 522 kB 12.3 MB/s eta 0:00:01\r\u001b[K     |█████████████████▍              | 532 kB 12.3 MB/s eta 0:00:01\r\u001b[K     |█████████████████▊              | 542 kB 12.3 MB/s eta 0:00:01\r\u001b[K     |██████████████████              | 552 kB 12.3 MB/s eta 0:00:01\r\u001b[K     |██████████████████▍             | 563 kB 12.3 MB/s eta 0:00:01\r\u001b[K     |██████████████████▊             | 573 kB 12.3 MB/s eta 0:00:01\r\u001b[K     |███████████████████             | 583 kB 12.3 MB/s eta 0:00:01\r\u001b[K     |███████████████████▍            | 593 kB 12.3 MB/s eta 0:00:01\r\u001b[K     |███████████████████▊            | 604 kB 12.3 MB/s eta 0:00:01\r\u001b[K     |████████████████████            | 614 kB 12.3 MB/s eta 0:00:01\r\u001b[K     |████████████████████▍           | 624 kB 12.3 MB/s eta 0:00:01\r\u001b[K     |████████████████████▊           | 634 kB 12.3 MB/s eta 0:00:01\r\u001b[K     |█████████████████████           | 645 kB 12.3 MB/s eta 0:00:01\r\u001b[K     |█████████████████████▍          | 655 kB 12.3 MB/s eta 0:00:01\r\u001b[K     |█████████████████████▊          | 665 kB 12.3 MB/s eta 0:00:01\r\u001b[K     |██████████████████████          | 675 kB 12.3 MB/s eta 0:00:01\r\u001b[K     |██████████████████████▍         | 686 kB 12.3 MB/s eta 0:00:01\r\u001b[K     |██████████████████████▊         | 696 kB 12.3 MB/s eta 0:00:01\r\u001b[K     |███████████████████████         | 706 kB 12.3 MB/s eta 0:00:01\r\u001b[K     |███████████████████████▍        | 716 kB 12.3 MB/s eta 0:00:01\r\u001b[K     |███████████████████████▊        | 727 kB 12.3 MB/s eta 0:00:01\r\u001b[K     |████████████████████████        | 737 kB 12.3 MB/s eta 0:00:01\r\u001b[K     |████████████████████████▍       | 747 kB 12.3 MB/s eta 0:00:01\r\u001b[K     |████████████████████████▊       | 757 kB 12.3 MB/s eta 0:00:01\r\u001b[K     |█████████████████████████       | 768 kB 12.3 MB/s eta 0:00:01\r\u001b[K     |█████████████████████████▍      | 778 kB 12.3 MB/s eta 0:00:01\r\u001b[K     |█████████████████████████▊      | 788 kB 12.3 MB/s eta 0:00:01\r\u001b[K     |██████████████████████████      | 798 kB 12.3 MB/s eta 0:00:01\r\u001b[K     |██████████████████████████▍     | 808 kB 12.3 MB/s eta 0:00:01\r\u001b[K     |██████████████████████████▊     | 819 kB 12.3 MB/s eta 0:00:01\r\u001b[K     |███████████████████████████     | 829 kB 12.3 MB/s eta 0:00:01\r\u001b[K     |███████████████████████████▍    | 839 kB 12.3 MB/s eta 0:00:01\r\u001b[K     |███████████████████████████▊    | 849 kB 12.3 MB/s eta 0:00:01\r\u001b[K     |████████████████████████████    | 860 kB 12.3 MB/s eta 0:00:01\r\u001b[K     |████████████████████████████▍   | 870 kB 12.3 MB/s eta 0:00:01\r\u001b[K     |████████████████████████████▊   | 880 kB 12.3 MB/s eta 0:00:01\r\u001b[K     |█████████████████████████████   | 890 kB 12.3 MB/s eta 0:00:01\r\u001b[K     |█████████████████████████████▍  | 901 kB 12.3 MB/s eta 0:00:01\r\u001b[K     |█████████████████████████████▊  | 911 kB 12.3 MB/s eta 0:00:01\r\u001b[K     |██████████████████████████████  | 921 kB 12.3 MB/s eta 0:00:01\r\u001b[K     |██████████████████████████████▍ | 931 kB 12.3 MB/s eta 0:00:01\r\u001b[K     |██████████████████████████████▊ | 942 kB 12.3 MB/s eta 0:00:01\r\u001b[K     |███████████████████████████████ | 952 kB 12.3 MB/s eta 0:00:01\r\u001b[K     |███████████████████████████████▍| 962 kB 12.3 MB/s eta 0:00:01\r\u001b[K     |███████████████████████████████▊| 972 kB 12.3 MB/s eta 0:00:01\r\u001b[K     |████████████████████████████████| 981 kB 12.3 MB/s \n",
            "\u001b[?25hRequirement already satisfied: six in /usr/local/lib/python3.7/dist-packages (from langdetect) (1.15.0)\n",
            "Building wheels for collected packages: langdetect\n",
            "  Building wheel for langdetect (setup.py) ... \u001b[?25l\u001b[?25hdone\n",
            "  Created wheel for langdetect: filename=langdetect-1.0.9-py3-none-any.whl size=993242 sha256=2eb75be2056667f3ebaa2352636e2f870ffa2f202cccd54e3b37429784082a6d\n",
            "  Stored in directory: /root/.cache/pip/wheels/c5/96/8a/f90c59ed25d75e50a8c10a1b1c2d4c402e4dacfa87f3aff36a\n",
            "Successfully built langdetect\n",
            "Installing collected packages: langdetect\n",
            "Successfully installed langdetect-1.0.9\n"
          ]
        }
      ]
    },
    {
      "cell_type": "code",
      "metadata": {
        "id": "fJoccX-QLSPZ",
        "colab": {
          "base_uri": "https://localhost:8080/"
        },
        "outputId": "53ba9584-6e7b-47a3-f68a-40c0cf388358"
      },
      "source": [
        "import os\n",
        "import sqlite3\n",
        "import pandas as pd\n",
        "from langdetect import detect\n",
        "from google.colab import drive\n",
        "\n",
        "query = 'Select rowid, parent_id, subreddit, body, author, score from May2015 LIMIT 39999;'\n",
        "path = '/content/drive/MyDrive/reddit_comments_dataset/'\n",
        "\n",
        "# go to path\n",
        "os.chdir(path)\n",
        "\n",
        "# Read sqlite query results into a pandas DataFrame\n",
        "cursor = sqlite3.connect(path + 'database.sqlite')\n",
        "dataframe = pd.read_sql_query(query, cursor)\n",
        "cursor.close()\n",
        "\n",
        "# Verify that result of SQL query is stored in the dataframe\n",
        "reddit_dataset = dataframe.values.tolist()\n",
        "\n",
        "# Extracting relevant data from dataset\n",
        "comments = []\n",
        "parents = []\n",
        "subreddits = []\n",
        "\n",
        "for index, data in enumerate(reddit_dataset[:10000]):\n",
        "  parent_id = data[1]\n",
        "  subreddit = data[2]\n",
        "  body = data[3]\n",
        "  language = None\n",
        "\n",
        "  try:\n",
        "    language = detect(body)\n",
        "  except:\n",
        "    language = 'error'\n",
        "\n",
        "  if language == 'en':\n",
        "    comments.append(body)\n",
        "    parents.append(parent_id)\n",
        "    subreddits.append(subreddit)\n",
        "\n",
        "print(len(comments))"
      ],
      "execution_count": null,
      "outputs": [
        {
          "output_type": "stream",
          "name": "stdout",
          "text": [
            "8206\n"
          ]
        }
      ]
    },
    {
      "cell_type": "markdown",
      "metadata": {
        "id": "CXSA9gdZjCyN"
      },
      "source": [
        "## Import NLTK"
      ]
    },
    {
      "cell_type": "code",
      "metadata": {
        "id": "AeXStw8cewaL"
      },
      "source": [
        "#import nltk\n",
        "#nltk.download('all')"
      ],
      "execution_count": null,
      "outputs": []
    },
    {
      "cell_type": "markdown",
      "metadata": {
        "id": "QMW6ZOrJa0P0"
      },
      "source": [
        "## Perform Tokenization of each comment, removing Stopwords, Text Normalization and Stemming the Tokenized Comment List"
      ]
    },
    {
      "cell_type": "code",
      "metadata": {
        "id": "p_tdjI1RbxRM",
        "colab": {
          "base_uri": "https://localhost:8080/"
        },
        "outputId": "10aad95e-36d4-498b-b6d0-8ac2140af4bc"
      },
      "source": [
        "from nltk.stem import PorterStemmer\n",
        "from nltk.tokenize import word_tokenize\n",
        "from nltk.corpus import stopwords\n",
        "from collections import Counter\n",
        "\n",
        "porter_stemmer = PorterStemmer()\n",
        "\n",
        "# get english stopwords\n",
        "stop_words = list(stopwords.words('english'))\n",
        "\n",
        "filtered_and_stemmed_comments = []\n",
        "\n",
        "for comment in comments:\n",
        "  # tokenizing the comments\n",
        "  word_tokens = word_tokenize(comment)\n",
        "\n",
        "  # filter out stopwords\n",
        "  filtered_word_tokens = [w for w in word_tokens if not w in stop_words]\n",
        "  \n",
        "  # text normalization\n",
        "  # removing punctuations\n",
        "  filtered_word_tokens = [word for word in filtered_word_tokens if word.isalpha()]\n",
        "\n",
        "  # make words lowercase\n",
        "  filtered_word_tokens = [word.lower() for word in filtered_word_tokens]\n",
        "\n",
        "  # performing stemming\n",
        "  stemmed_word_tokens = []\n",
        "  for filtered_word in filtered_word_tokens:\n",
        "    stemmed_word = porter_stemmer.stem(filtered_word)\n",
        "    stemmed_word_tokens.append(stemmed_word)\n",
        "\n",
        "  # checking word count for each tokens \n",
        "  #word_count = Counter(stemmed_word_tokens)\n",
        "  #print(word_count.most_common(10))\n",
        "\n",
        "  filtered_and_stemmed_comments.append(stemmed_word_tokens)\n",
        "\n",
        "len(filtered_and_stemmed_comments)"
      ],
      "execution_count": null,
      "outputs": [
        {
          "output_type": "execute_result",
          "data": {
            "text/plain": [
              "8206"
            ]
          },
          "metadata": {},
          "execution_count": 7
        }
      ]
    },
    {
      "cell_type": "code",
      "source": [
        "#filtered_and_stemmed_comments"
      ],
      "metadata": {
        "id": "CfyFeg0i_kDT"
      },
      "execution_count": null,
      "outputs": []
    },
    {
      "cell_type": "markdown",
      "metadata": {
        "id": "9xiwv-POqMC9"
      },
      "source": [
        "## Build a term list with the tokens from each comment"
      ]
    },
    {
      "cell_type": "code",
      "metadata": {
        "id": "vGBlurGgqR7F"
      },
      "source": [
        "term_list = []\n",
        "\n",
        "for tokens in filtered_and_stemmed_comments:\n",
        "  for word in tokens:\n",
        "    if word not in term_list:\n",
        "      term_list.append(word)\n",
        "\n",
        "#print(term_list)"
      ],
      "execution_count": null,
      "outputs": []
    },
    {
      "cell_type": "markdown",
      "source": [
        "## Calculate TF matrix for a term in all comments/documents."
      ],
      "metadata": {
        "id": "k0PvtiUOAOKY"
      }
    },
    {
      "cell_type": "code",
      "source": [
        "import numpy as np\n",
        "\n",
        "term_list_length = len(term_list)\n",
        "#print(term_list_length)\n",
        "\n",
        "# initialize feature vectors set\n",
        "tf_matrix = np.zeros((len(comments), term_list_length), dtype=np.int64)\n",
        "\n",
        "for index, document in enumerate(filtered_and_stemmed_comments):\n",
        "  # initialize individual row vector of document\n",
        "  row = [0] * term_list_length\n",
        "\n",
        "  for word in document:\n",
        "    # if word is in term list get the index and update row count in document\n",
        "    if word in term_list:\n",
        "      index_of_word_in_term_list = term_list.index(word)\n",
        "      row[index_of_word_in_term_list] += 1\n",
        "\n",
        "  row = np.asarray(row).astype(int)\n",
        "  tf_matrix[index] = row"
      ],
      "metadata": {
        "id": "p7R2sP5865Vt"
      },
      "execution_count": null,
      "outputs": []
    },
    {
      "cell_type": "code",
      "source": [
        "tf_matrix = np.asarray(tf_matrix)"
      ],
      "metadata": {
        "id": "hsZQFaKqTrjt"
      },
      "execution_count": null,
      "outputs": []
    },
    {
      "cell_type": "code",
      "source": [
        "tf_matrix.shape"
      ],
      "metadata": {
        "id": "jY9xK9ovsYnf",
        "colab": {
          "base_uri": "https://localhost:8080/"
        },
        "outputId": "8d370de0-5159-484c-96ff-40985c949499"
      },
      "execution_count": null,
      "outputs": [
        {
          "output_type": "execute_result",
          "data": {
            "text/plain": [
              "(8206, 13043)"
            ]
          },
          "metadata": {},
          "execution_count": 12
        }
      ]
    },
    {
      "cell_type": "code",
      "source": [
        "tf_matrix[0]"
      ],
      "metadata": {
        "id": "OuCMoiUGuqhT",
        "colab": {
          "base_uri": "https://localhost:8080/"
        },
        "outputId": "5ee0a549-28b9-40ba-8b81-8c6b51569d21"
      },
      "execution_count": null,
      "outputs": [
        {
          "output_type": "execute_result",
          "data": {
            "text/plain": [
              "array([1, 1, 1, ..., 0, 0, 0])"
            ]
          },
          "metadata": {},
          "execution_count": 13
        }
      ]
    },
    {
      "cell_type": "code",
      "source": [
        "tf_matrix"
      ],
      "metadata": {
        "id": "mFYVzhEvtHKn",
        "colab": {
          "base_uri": "https://localhost:8080/"
        },
        "outputId": "80732a0d-fb91-4657-d0bf-ea348003d6fb"
      },
      "execution_count": null,
      "outputs": [
        {
          "output_type": "execute_result",
          "data": {
            "text/plain": [
              "array([[1, 1, 1, ..., 0, 0, 0],\n",
              "       [0, 0, 0, ..., 0, 0, 0],\n",
              "       [0, 1, 0, ..., 0, 0, 0],\n",
              "       ...,\n",
              "       [0, 0, 0, ..., 0, 1, 1],\n",
              "       [0, 0, 0, ..., 0, 0, 0],\n",
              "       [0, 0, 0, ..., 0, 0, 0]])"
            ]
          },
          "metadata": {},
          "execution_count": 14
        }
      ]
    },
    {
      "cell_type": "markdown",
      "source": [
        "## Normalized TF Matrix"
      ],
      "metadata": {
        "id": "XDlX1s_jIiY8"
      }
    },
    {
      "cell_type": "markdown",
      "source": [
        "### Applying Sub-linear scaling"
      ],
      "metadata": {
        "id": "43NUc_W5tdqE"
      }
    },
    {
      "cell_type": "code",
      "source": [
        "import math \n",
        "\n",
        "for tf in tf_matrix:\n",
        "  for t in tf:\n",
        "    if t > 0:\n",
        "      t = 1 - math.log(t)"
      ],
      "metadata": {
        "id": "8szlGVc5IhGO"
      },
      "execution_count": null,
      "outputs": []
    },
    {
      "cell_type": "code",
      "source": [
        "tf_matrix"
      ],
      "metadata": {
        "colab": {
          "base_uri": "https://localhost:8080/"
        },
        "id": "Y4294bTctLkS",
        "outputId": "71d1fc1a-90cc-4a74-c90f-aca65e409521"
      },
      "execution_count": null,
      "outputs": [
        {
          "output_type": "execute_result",
          "data": {
            "text/plain": [
              "array([[1, 1, 1, ..., 0, 0, 0],\n",
              "       [0, 0, 0, ..., 0, 0, 0],\n",
              "       [0, 1, 0, ..., 0, 0, 0],\n",
              "       ...,\n",
              "       [0, 0, 0, ..., 0, 1, 1],\n",
              "       [0, 0, 0, ..., 0, 0, 0],\n",
              "       [0, 0, 0, ..., 0, 0, 0]])"
            ]
          },
          "metadata": {},
          "execution_count": 16
        }
      ]
    },
    {
      "cell_type": "code",
      "source": [
        "tf_matrix.shape"
      ],
      "metadata": {
        "colab": {
          "base_uri": "https://localhost:8080/"
        },
        "id": "e63TtU5Ct6XK",
        "outputId": "d967d638-c91b-4eb4-aa09-079e5f4b87f0"
      },
      "execution_count": null,
      "outputs": [
        {
          "output_type": "execute_result",
          "data": {
            "text/plain": [
              "(8206, 13043)"
            ]
          },
          "metadata": {},
          "execution_count": 17
        }
      ]
    },
    {
      "cell_type": "markdown",
      "source": [
        "## Finding Document Frequency (DF)"
      ],
      "metadata": {
        "id": "j4zYm6sPw4Se"
      }
    },
    {
      "cell_type": "code",
      "source": [
        "document_frequency = {}\n",
        "\n",
        "# initializing df\n",
        "for term in term_list:\n",
        "  document_frequency[term] = 0"
      ],
      "metadata": {
        "id": "mRh0kTn9w9wW"
      },
      "execution_count": null,
      "outputs": []
    },
    {
      "cell_type": "code",
      "source": [
        "len(document_frequency)"
      ],
      "metadata": {
        "colab": {
          "base_uri": "https://localhost:8080/"
        },
        "id": "nwirzUU824v3",
        "outputId": "46f37998-3a87-47b7-80d2-e59aaa24d8e9"
      },
      "execution_count": null,
      "outputs": [
        {
          "output_type": "execute_result",
          "data": {
            "text/plain": [
              "13043"
            ]
          },
          "metadata": {},
          "execution_count": 19
        }
      ]
    },
    {
      "cell_type": "code",
      "source": [
        "# fill up df\n",
        "\n",
        "for i in range(term_list_length):\n",
        "  max_term_frequency = max(tf_matrix[:, i])\n",
        "  document_frequency[term_list[i]] = max_term_frequency\n"
      ],
      "metadata": {
        "id": "emDUiA6iyLSA"
      },
      "execution_count": null,
      "outputs": []
    },
    {
      "cell_type": "code",
      "source": [
        "#document_frequency"
      ],
      "metadata": {
        "id": "feVRitOG2biS"
      },
      "execution_count": null,
      "outputs": []
    },
    {
      "cell_type": "markdown",
      "source": [
        "## Finding IDF(t)"
      ],
      "metadata": {
        "id": "4Esvi1tw2rcx"
      }
    },
    {
      "cell_type": "markdown",
      "source": [
        "### Converting df to numpy array"
      ],
      "metadata": {
        "id": "HDeOo3VPRaCV"
      }
    },
    {
      "cell_type": "code",
      "source": [
        "df_list = list(document_frequency.items())\n",
        "df_array = np.asarray(df_list)\n",
        "df_array = df_array[:, 1]\n",
        "df_array = df_array.astype(np.float)"
      ],
      "metadata": {
        "id": "SNxlNY0LQSwi"
      },
      "execution_count": null,
      "outputs": []
    },
    {
      "cell_type": "code",
      "source": [
        "df_array"
      ],
      "metadata": {
        "colab": {
          "base_uri": "https://localhost:8080/"
        },
        "id": "atujuJzlQpow",
        "outputId": "76958d7e-b469-48ef-b076-89d9e617f8f4"
      },
      "execution_count": null,
      "outputs": [
        {
          "output_type": "execute_result",
          "data": {
            "text/plain": [
              "array([4., 6., 3., ..., 1., 1., 1.])"
            ]
          },
          "metadata": {},
          "execution_count": 23
        }
      ]
    },
    {
      "cell_type": "markdown",
      "source": [
        "### Finding IDF for each term"
      ],
      "metadata": {
        "id": "Ceg41SiTRrX5"
      }
    },
    {
      "cell_type": "code",
      "source": [
        "idf = [] \n",
        "\n",
        "for i, term in enumerate(term_list):\n",
        "  idf.append(1 + np.log(len(comments) / df_array[i]))"
      ],
      "metadata": {
        "id": "dcb-LidCRpyQ"
      },
      "execution_count": null,
      "outputs": []
    },
    {
      "cell_type": "code",
      "source": [
        "idf = np.asarray(idf)"
      ],
      "metadata": {
        "id": "3t3uvfCKSc0F"
      },
      "execution_count": null,
      "outputs": []
    },
    {
      "cell_type": "code",
      "source": [
        "idf.shape"
      ],
      "metadata": {
        "colab": {
          "base_uri": "https://localhost:8080/"
        },
        "id": "cR8DJFcZSi3c",
        "outputId": "ab508be5-5131-4fe8-e726-7bb0e79ba4d3"
      },
      "execution_count": null,
      "outputs": [
        {
          "output_type": "execute_result",
          "data": {
            "text/plain": [
              "(13043,)"
            ]
          },
          "metadata": {},
          "execution_count": 26
        }
      ]
    },
    {
      "cell_type": "code",
      "source": [
        "idf"
      ],
      "metadata": {
        "colab": {
          "base_uri": "https://localhost:8080/"
        },
        "id": "uYXbsqPBSXCb",
        "outputId": "7ccefd13-be2a-4779-926d-2b50f5d4be89"
      },
      "execution_count": null,
      "outputs": [
        {
          "output_type": "execute_result",
          "data": {
            "text/plain": [
              "array([ 8.62632651,  8.2208614 ,  8.91400858, ..., 10.01262087,\n",
              "       10.01262087, 10.01262087])"
            ]
          },
          "metadata": {},
          "execution_count": 27
        }
      ]
    },
    {
      "cell_type": "markdown",
      "source": [
        "## Combining TF-IDF"
      ],
      "metadata": {
        "id": "I4G1UgrWSmik"
      }
    },
    {
      "cell_type": "markdown",
      "source": [
        "### Calculate final  weighted matrix for all documents"
      ],
      "metadata": {
        "id": "kHLav9LLSsV3"
      }
    },
    {
      "cell_type": "code",
      "source": [
        "weighted_matrix = tf_matrix \n",
        "\n",
        "for index_v, vector in enumerate(weighted_matrix):\n",
        "  weighted_matrix[index_v] = weighted_matrix[index_v] * idf "
      ],
      "metadata": {
        "id": "2y_wbiFASyFK"
      },
      "execution_count": null,
      "outputs": []
    },
    {
      "cell_type": "code",
      "source": [
        "weighted_matrix.shape"
      ],
      "metadata": {
        "colab": {
          "base_uri": "https://localhost:8080/"
        },
        "id": "5PU9RpcCTEHz",
        "outputId": "d4ed9a63-96ae-4831-bbcc-7c95083351d6"
      },
      "execution_count": null,
      "outputs": [
        {
          "output_type": "execute_result",
          "data": {
            "text/plain": [
              "(8206, 13043)"
            ]
          },
          "metadata": {},
          "execution_count": 29
        }
      ]
    },
    {
      "cell_type": "code",
      "source": [
        "weighted_matrix"
      ],
      "metadata": {
        "colab": {
          "base_uri": "https://localhost:8080/"
        },
        "id": "I0JYt_wKTF3J",
        "outputId": "fba5078b-f9a8-4b7b-c24f-9de43aa085ee"
      },
      "execution_count": null,
      "outputs": [
        {
          "output_type": "execute_result",
          "data": {
            "text/plain": [
              "array([[ 8,  8,  8, ...,  0,  0,  0],\n",
              "       [ 0,  0,  0, ...,  0,  0,  0],\n",
              "       [ 0,  8,  0, ...,  0,  0,  0],\n",
              "       ...,\n",
              "       [ 0,  0,  0, ...,  0, 10, 10],\n",
              "       [ 0,  0,  0, ...,  0,  0,  0],\n",
              "       [ 0,  0,  0, ...,  0,  0,  0]])"
            ]
          },
          "metadata": {},
          "execution_count": 30
        }
      ]
    },
    {
      "cell_type": "markdown",
      "metadata": {
        "id": "gE-2yaUGIv-I"
      },
      "source": [
        "## Performing KMeans on Weighted Matrix of Text Data"
      ]
    },
    {
      "cell_type": "code",
      "metadata": {
        "id": "DG-sCPJ5I1BA",
        "colab": {
          "base_uri": "https://localhost:8080/"
        },
        "outputId": "d914532e-6728-4afb-fea1-1cc519bfd6d4"
      },
      "source": [
        "from sklearn.cluster import KMeans\n",
        "\n",
        "# K Clusters\n",
        "K = 5\n",
        "\n",
        "print('Reddit Comments Data Kmeans Started: ')\n",
        "start_time = time.time()\n",
        "\n",
        "# Running KMeans on images 10 times and making 10 clusters\n",
        "# Initialization of centroids are done randomly\n",
        "kmeans = KMeans(n_clusters=K, init='random', n_init=K).fit(weighted_matrix)\n",
        "\n",
        "print('Reddit Comments Data Kmeans Ended: ')\n",
        "print(\"--- %s seconds ---\" % (time.time() - start_time))\n",
        "\n",
        "# the cluster centers or centroids\n",
        "clusters = kmeans.cluster_centers_\n",
        "\n",
        "# find which points in the sample belong to which cluster\n",
        "cluster_affiliations = kmeans.predict(weighted_matrix)\n",
        "\n",
        "print('Labels: ', np.unique(kmeans.labels_))\n",
        "\n",
        "print('Total Number of Clusters: ', len(clusters))\n",
        "print('Clusters: ', clusters)\n",
        "\n",
        "print('Total Number of points in all clusters: ', len(cluster_affiliations))\n",
        "print('Cluster Affiliations: ', cluster_affiliations)"
      ],
      "execution_count": null,
      "outputs": [
        {
          "output_type": "stream",
          "name": "stdout",
          "text": [
            "Reddit Comments Data Kmeans Started: \n",
            "Reddit Comments Data Kmeans Ended: \n",
            "--- 13.76932978630066 seconds ---\n",
            "Labels:  [0 1 2 3 4]\n",
            "Total Number of Clusters:  5\n",
            "Clusters:  [[ 4.95346743e-03  5.57190033e-01  1.25337736e-01 ...  1.50105074e-03\n",
            "   1.50105074e-03  1.50105074e-03]\n",
            " [ 2.00000000e+00  2.00000000e+01  6.50000000e+00 ...  0.00000000e+00\n",
            "   0.00000000e+00  0.00000000e+00]\n",
            " [ 0.00000000e+00  1.04000000e+01  3.30000000e+00 ...  0.00000000e+00\n",
            "   0.00000000e+00  0.00000000e+00]\n",
            " [ 2.43204578e-02  1.72961373e+00  3.56223176e-01 ... -1.47451495e-17\n",
            "  -1.47451495e-17 -1.47451495e-17]\n",
            " [ 6.06060606e-02  4.73484848e+00  4.92424242e-01 ...  2.16840434e-19\n",
            "   2.16840434e-19  2.16840434e-19]]\n",
            "Total Number of points in all clusters:  8206\n",
            "Cluster Affiliations:  [0 0 0 ... 0 0 0]\n"
          ]
        }
      ]
    },
    {
      "cell_type": "markdown",
      "metadata": {
        "id": "HO-3N63HZbhH"
      },
      "source": [
        "## Checking quality of the final cluster using J\n",
        "a) ![Picture1.png](data:image/png;base64,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)"
      ]
    },
    {
      "cell_type": "code",
      "metadata": {
        "colab": {
          "base_uri": "https://localhost:8080/"
        },
        "outputId": "2c08d523-081c-43ac-ebc9-451ba9e9ad25",
        "id": "sGjqv-v3ZbhI"
      },
      "source": [
        "# N = number of images\n",
        "N = weighted_matrix.shape[0]\n",
        "\n",
        "# initialize sum\n",
        "sum = np.zeros(weighted_matrix.shape[1])\n",
        "\n",
        "# x = new_mfcc_feature_vectors, z = clusters\n",
        "for index, feature_vector in enumerate(weighted_matrix):\n",
        "  sum += np.linalg.norm(feature_vector - clusters[cluster_affiliations[index]]) ** 2\n",
        "\n",
        "# calculating J\n",
        "J = sum / N\n",
        "\n",
        "# check if all elements in J are same\n",
        "good = np.all(J == J[0])\n",
        "\n",
        "if good:\n",
        "  print(J)\n",
        "  print('Quality Good!')"
      ],
      "execution_count": null,
      "outputs": [
        {
          "output_type": "stream",
          "name": "stdout",
          "text": [
            "[1643.03590041 1643.03590041 1643.03590041 ... 1643.03590041 1643.03590041\n",
            " 1643.03590041]\n",
            "Quality Good!\n"
          ]
        }
      ]
    },
    {
      "cell_type": "markdown",
      "metadata": {
        "id": "gtl8Qb-xZbhI"
      },
      "source": [
        "## Checking quality of the final cluster using Davies–Bouldin index\n",
        "\n",
        "b) Davies–Bouldin index\n",
        "![p2.png](data:image/png;base64,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)\n",
        "\n",
        "A lower Davies-Bouldin index relates to a model with better \n",
        "separation between the clusters. This index signifies the \n",
        "average ‘similarity’ between clusters, where the similarity \n",
        "is a measure that compares the distance between clusters with \n",
        "the size of the clusters themselves. Zero is the lowest possible \n",
        "score. Values closer to zero indicate a better partition.\n",
        "\n",
        "Reference: sklearn documentation"
      ]
    },
    {
      "cell_type": "code",
      "metadata": {
        "colab": {
          "base_uri": "https://localhost:8080/"
        },
        "outputId": "31ca7be6-fa21-487d-bb4d-33aadd7c6d87",
        "id": "ippfJ6MzZbhI"
      },
      "source": [
        "from sklearn.metrics import davies_bouldin_score\n",
        "\n",
        "db_score = davies_bouldin_score(weighted_matrix, cluster_affiliations)\n",
        "print('Davies Bouldin Index Score: {}'.format(db_score))"
      ],
      "execution_count": null,
      "outputs": [
        {
          "output_type": "stream",
          "name": "stdout",
          "text": [
            "Davies Bouldin Index Score: 3.263774037968939\n"
          ]
        }
      ]
    },
    {
      "cell_type": "markdown",
      "metadata": {
        "id": "LlnkTlF1ZbhJ"
      },
      "source": [
        "## Checking quality of the final cluster using Dunn index\n",
        "c) Dunn index\n",
        "\n",
        "It is calculated as the lowest intercluster distance (ie. the smallest distance \n",
        "between any two cluster centroids) divided by the highest intracluster distance \n",
        "(ie. the largest distance between any two points in any cluster).\n",
        "The higher the value of the Dunn index, the better the aggregation. \n",
        "The number of clusters which maximizes the Dunn index is considered to be the \n",
        "optimal number of clusters k. It also has some drawbacks. As the number of \n",
        "clusters and the dimensionality of the data increase, so does the cost of computation. \n",
        "(Reference: \n",
        "1. https://en.wikipedia.org/wiki/Dunn_index \n",
        "2. https://python.engineering/dunn-index-and-db-index-cluster-validity-indices-set-1/\n",
        "3. https://mayankdw.medium.com/k-means-clustering-and-dunn-index-implementaion-from-scratch-9c66573bfe90)\n"
      ]
    },
    {
      "cell_type": "code",
      "metadata": {
        "colab": {
          "base_uri": "https://localhost:8080/"
        },
        "outputId": "9fec5bcd-bb75-4a10-d4f1-d8fbd8f7c98c",
        "id": "bIMtab3sZbhJ"
      },
      "source": [
        "import math\n",
        "\n",
        "# find euclidean distance between two points \n",
        "def find_distance(point, cluster_point):\n",
        "    distance = math.sqrt(np.sum(np.power(np.subtract(point, cluster_point), 2))) \n",
        "    return distance\n",
        "\n",
        "# find lowest intercluster distance\n",
        "def get_lowest_intercluster_distance(clusters):\n",
        "  min_intercluster_distance = float('inf')\n",
        "\n",
        "  for index_1, cluster_1 in enumerate(clusters):\n",
        "    for index_2, cluster_2 in enumerate(clusters):\n",
        "      distance = float('inf')\n",
        "      \n",
        "      if index_1 == 0 and index_2 == 1:\n",
        "        distance = find_distance(cluster_1, cluster_2)\n",
        "        min_intercluster_distance = distance\n",
        "      \n",
        "      else:\n",
        "        if np.any(cluster_1 != cluster_2):\n",
        "          distance = find_distance(cluster_1, cluster_2)\n",
        "      \n",
        "        if distance < min_intercluster_distance:\n",
        "          min_intercluster_distance = distance\n",
        "    \n",
        "    return min_intercluster_distance\n",
        "\n",
        "# find highest intracluster distance\n",
        "def get_highest_intracluster_distance(new_mfcc_feature_vectors):\n",
        "  max_intracluster_distance = float('inf')\n",
        "\n",
        "  for index_1, point_1 in enumerate(new_mfcc_feature_vectors):\n",
        "    for index_2, point_2 in enumerate(new_mfcc_feature_vectors):\n",
        "      distance = float('inf')\n",
        "      \n",
        "      if index_1 == 0 and index_2 == 1:\n",
        "        distance = find_distance(point_1, point_2)\n",
        "        max_intracluster_distance = distance\n",
        "      \n",
        "      else:\n",
        "        if np.any(point_1 != point_2):\n",
        "          distance = find_distance(point_1, point_2)\n",
        "      \n",
        "        if distance > max_intracluster_distance:\n",
        "          max_intracluster_distance = distance\n",
        "    \n",
        "    return max_intracluster_distance\n",
        "\n",
        "# find dunn index\n",
        "def dunn_index(new_mfcc_feature_vectors, clusters):\n",
        "  lowest_intercluster_distance = get_lowest_intercluster_distance(clusters)\n",
        "\n",
        "  highest_intracluster_distance = get_highest_intracluster_distance(new_mfcc_feature_vectors)\n",
        "\n",
        "  return lowest_intercluster_distance/highest_intracluster_distance\n",
        "\n",
        "dunn_index_score = dunn_index(weighted_matrix, clusters)\n",
        "\n",
        "# Print Dunn Index Score\n",
        "print('Dunn Index Score: {}'.format(dunn_index_score))"
      ],
      "execution_count": null,
      "outputs": [
        {
          "output_type": "stream",
          "name": "stdout",
          "text": [
            "Dunn Index Score: 0.024840163615383264\n"
          ]
        }
      ]
    }
  ]
}